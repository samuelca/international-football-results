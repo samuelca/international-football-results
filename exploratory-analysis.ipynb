{
 "cells": [
  {
   "cell_type": "markdown",
   "id": "dc45f10e",
   "metadata": {},
   "source": [
    "## EDA of international Football Matches\n",
    "\n",
    "In this notebook we will take a closer look into the evolution of international football matches (i.e. matches played between countries) through the years."
   ]
  },
  {
   "cell_type": "code",
   "execution_count": 1,
   "id": "186f312b",
   "metadata": {},
   "outputs": [],
   "source": [
    "# IMPORTS\n",
    "\n",
    "import pandas as pd\n",
    "import numpy as np\n",
    "import matplotlib.pyplot as plt\n",
    "import seaborn as sns"
   ]
  },
  {
   "cell_type": "code",
   "execution_count": null,
   "id": "51e26307",
   "metadata": {},
   "outputs": [],
   "source": []
  }
 ],
 "metadata": {
  "kernelspec": {
   "display_name": "Python 3.9.12 ('udacityds')",
   "language": "python",
   "name": "python3"
  },
  "language_info": {
   "codemirror_mode": {
    "name": "ipython",
    "version": 3
   },
   "file_extension": ".py",
   "mimetype": "text/x-python",
   "name": "python",
   "nbconvert_exporter": "python",
   "pygments_lexer": "ipython3",
   "version": "3.9.12"
  },
  "vscode": {
   "interpreter": {
    "hash": "1a11e8a88a9530555923e0becb110aa31a31735ef9f6eb6db9f1421dff137114"
   }
  }
 },
 "nbformat": 4,
 "nbformat_minor": 5
}
